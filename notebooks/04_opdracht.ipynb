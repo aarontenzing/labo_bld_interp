{
 "cells": [
  {
   "cell_type": "markdown",
   "id": "84619d80-cdf6-454e-8a34-8dfb6075e2f3",
   "metadata": {},
   "source": [
    "# Opdracht labo beeldinterpretatie\n",
    "\n",
    "## Voorbereiding labo 2\n",
    "- Zoek een classificatiedataset met minstens 10 klassen, paar duizenden of tienduizenden foto's en niet meer dan 5 GB data.\n",
    "- Maak een kopie van de notebook `01_inspect_data.ipynb` en pas de code cells aan naar de nieuwe dataset\n",
    "- 6 pt\n",
    "\n",
    "## Na labo 2\n",
    "- Pas code van andere notebooks en de `.py` files aan naar de nieuwe data zodat je met `python train.py` een correct werkende training kan opstarten\n",
    "    - 4 pt\n",
    "- Voer de volgende experimenten uit:\n",
    "    - Vergelijk accuracy van model dat met random weights en pretrained weights getraind wordt\n",
    "        - 1 pt\n",
    "    - Bepaal de beste learning rate voor batch sizes 5, 10, 15, 20, 25, 30 en bespreek de resultaten.\n",
    "        - 2 pt\n",
    "    - Breid de data transformation pipeline uit met augmentation(s) die jou zinvol lijk(en) voor de gekozen data. Visualiseer het effect van de pipeline op verschillende, willekeurig gekozen afbeeldingen. Train de data eens met en eens zonder de extra augmentations en bediscussieer de resultaten.\n",
    "        - 2 pt\n",
    "    - Voer de vorige experimenten uit met 5-fold cross-validatie (behalve eerste experiment)\n",
    "        - 2 pt\n",
    "    - Bepaal de beste hyperparameters na cross-validatie, train een nieuw model met alle folds.\n",
    "        - Evalueer de globale accuracy\n",
    "            - 1 pt\n",
    "        - Evalueer de accuracy van de 5 grootste en 5 kleinste klassen.\n",
    "            - 1 pt\n",
    "        - Visualiseer de classificaties met hoge confidence die fout zijn en classificaties met lage confidence die juist zijn\n",
    "            - 1 pt\n",
    "- Bonus/malus van max. +/- 2 ptn mogelijk op basis van code\n",
    "- Maak verslag en stuur op als **PDF**, samen met link naar jouw publieke **GitHub repo** (geforked van originele repo) en de link naar jouw publiek **wandb project**"
   ]
  }
 ],
 "metadata": {
  "kernelspec": {
   "display_name": "Python 3 (ipykernel)",
   "language": "python",
   "name": "python3"
  },
  "language_info": {
   "codemirror_mode": {
    "name": "ipython",
    "version": 3
   },
   "file_extension": ".py",
   "mimetype": "text/x-python",
   "name": "python",
   "nbconvert_exporter": "python",
   "pygments_lexer": "ipython3",
   "version": "3.10.12"
  }
 },
 "nbformat": 4,
 "nbformat_minor": 5
}
